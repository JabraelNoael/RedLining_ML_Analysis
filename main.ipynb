{
 "cells": [
  {
   "cell_type": "code",
   "execution_count": 1,
   "id": "4014a8ea",
   "metadata": {},
   "outputs": [],
   "source": [
    "dirPath = \"drive\"\n",
    "match \"local\":\n",
    "    case \"drive\":    \n",
    "        #Mount Drive\n",
    "        from google.colab import drive\n",
    "        drive.mount('/content/drive')\n",
    "        #Import sys, os, and module from shared drive\n",
    "        MODULE_DIR = \"/content/drive/MyDrive/DiabetesML\" #module file path\n",
    "        import sys, os\n",
    "        assert \"formula.py\" in os.listdir(MODULE_DIR)\n",
    "        sys.path.append(MODULE_DIR)\n",
    "    case \"local\":\n",
    "        import sys, os"
   ]
  }
 ],
 "metadata": {
  "kernelspec": {
   "display_name": "Python 3",
   "language": "python",
   "name": "python3"
  },
  "language_info": {
   "codemirror_mode": {
    "name": "ipython",
    "version": 3
   },
   "file_extension": ".py",
   "mimetype": "text/x-python",
   "name": "python",
   "nbconvert_exporter": "python",
   "pygments_lexer": "ipython3",
   "version": "3.13.7"
  }
 },
 "nbformat": 4,
 "nbformat_minor": 5
}
